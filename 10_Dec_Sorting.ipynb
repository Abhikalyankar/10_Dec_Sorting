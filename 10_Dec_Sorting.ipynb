{
 "cells": [
  {
   "cell_type": "markdown",
   "id": "998cfd44-570f-42e4-9618-3e1ab80b3c1b",
   "metadata": {},
   "source": [
    "# Sorting"
   ]
  },
  {
   "cell_type": "markdown",
   "id": "a54047c1-759d-43e1-8e66-dbe9d43511d6",
   "metadata": {},
   "source": [
    "### Problem 1.Given an array of n numbers, give an algorithm which gives the element appearing maximum number of times?"
   ]
  },
  {
   "cell_type": "code",
   "execution_count": 1,
   "id": "3bbfc976-ed0e-4d30-a919-c85be7d37941",
   "metadata": {},
   "outputs": [
    {
     "name": "stdout",
     "output_type": "stream",
     "text": [
      "3\n"
     ]
    }
   ],
   "source": [
    "def find_max_occurrence(arr):\n",
    "    arr.sort()\n",
    "\n",
    "    \n",
    "    current_element = arr[0]\n",
    "    current_count = 1\n",
    "    max_element = arr[0]\n",
    "    max_count = 1\n",
    "\n",
    "    for i in range(1, len(arr)):\n",
    "        if arr[i] == current_element:\n",
    "            current_count += 1\n",
    "        else:\n",
    "            if current_count > max_count:\n",
    "                max_element = current_element\n",
    "                max_count = current_count\n",
    "\n",
    "            current_element = arr[i]\n",
    "            current_count = 1\n",
    "\n",
    "    if current_count > max_count:\n",
    "        max_element = current_element\n",
    "        max_count = current_count\n",
    "\n",
    "    return max_element\n",
    "\n",
    "arr = [1, 3, 2, 1, 4, 1, 5, 3, 3, 3, 2]\n",
    "print(find_max_occurrence(arr))  \n"
   ]
  },
  {
   "cell_type": "code",
   "execution_count": null,
   "id": "9e07fe32-5e19-4b98-8fa4-208793923b40",
   "metadata": {},
   "outputs": [],
   "source": []
  },
  {
   "cell_type": "markdown",
   "id": "e6e873db-f526-412f-8d02-68eeaa17e53b",
   "metadata": {},
   "source": [
    "### Problem 2 : We are given a list of n-1 integers and these integers are in the range of 1 to n . There are no duplicates in the list. One of the integers is missing in the list. Give an algorithm to find that element Ex: [1,2,4,6,3,7,8] 5 is the missing num."
   ]
  },
  {
   "cell_type": "code",
   "execution_count": 2,
   "id": "8fbfe7f7-e0d1-4630-9e28-5b5f59f47b4d",
   "metadata": {},
   "outputs": [
    {
     "name": "stdout",
     "output_type": "stream",
     "text": [
      "5\n"
     ]
    }
   ],
   "source": [
    "def find_missing_number(arr, n):\n",
    "    arr.sort()\n",
    "\n",
    "    for i in range(1, n):\n",
    "        if i != arr[i-1]:\n",
    "            return i\n",
    "\n",
    "    return n\n",
    "\n",
    "# Example usage\n",
    "arr = [1, 2, 4, 6, 3, 7, 8]\n",
    "n = 8  \n",
    "print(find_missing_number(arr, n)) \n"
   ]
  },
  {
   "cell_type": "code",
   "execution_count": null,
   "id": "f94131d3-c6af-4427-96de-39a0e26b1dcb",
   "metadata": {},
   "outputs": [],
   "source": []
  },
  {
   "cell_type": "markdown",
   "id": "11c7b9da-5a19-42e7-a1de-f0e43c8c7d92",
   "metadata": {},
   "source": [
    "### Problem 3 : Given an array of n positive numbers. All numbers occurs even number of times except 1 which occurs odd number of times. Find that number in O(n) time and O(1) space. Ex: [1,2,3,2,3,1,3]. 3 is repeats odd times."
   ]
  },
  {
   "cell_type": "code",
   "execution_count": 3,
   "id": "1ee8189f-3b8b-4a38-8d26-3c114d148180",
   "metadata": {},
   "outputs": [
    {
     "name": "stdout",
     "output_type": "stream",
     "text": [
      "3\n"
     ]
    }
   ],
   "source": [
    "def find_odd_occurrence(arr):\n",
    "    result = 0\n",
    "    for num in arr:\n",
    "        result ^= num\n",
    "    return result\n",
    "\n",
    "arr = [1, 2, 3, 2, 3, 1, 3]\n",
    "print(find_odd_occurrence(arr))  \n"
   ]
  },
  {
   "cell_type": "code",
   "execution_count": null,
   "id": "f24abbb6-170a-42c0-a6f8-3143327a2b24",
   "metadata": {},
   "outputs": [],
   "source": []
  },
  {
   "cell_type": "markdown",
   "id": "a3aab820-cd92-4345-bfa0-09db5adfffce",
   "metadata": {},
   "source": [
    "### Problem 4 : Given an array of n elements. Find two elements in the array such that their sum is equal to given element K."
   ]
  },
  {
   "cell_type": "code",
   "execution_count": 4,
   "id": "61eeee75-e9d7-499f-b31b-c1522b44bc7f",
   "metadata": {},
   "outputs": [
    {
     "name": "stdout",
     "output_type": "stream",
     "text": [
      "(10, 7)\n"
     ]
    }
   ],
   "source": [
    "def find_pair_with_sum(arr, K):\n",
    "\n",
    "    seen = {}\n",
    "\n",
    "\n",
    "    for num in arr:\n",
    "\n",
    "        complement = K - num\n",
    "      \n",
    "        if complement in seen:\n",
    "            return (complement, num)\n",
    "       \n",
    "        seen[num] = True\n",
    "    \n",
    "    return None\n",
    "\n",
    "arr = [10, 15, 3, 7]\n",
    "K = 17\n",
    "print(find_pair_with_sum(arr, K)) \n"
   ]
  },
  {
   "cell_type": "code",
   "execution_count": null,
   "id": "f65e5bec-cdba-4d5b-9534-f33ecd942c0e",
   "metadata": {},
   "outputs": [],
   "source": []
  },
  {
   "cell_type": "markdown",
   "id": "08620845-8318-461f-8e6c-2e8b1e8cf2d7",
   "metadata": {},
   "source": [
    "### Problem 5 : Given an array of both positive and negative numbers, find two numbers such that their sum is closest to 0. Ex: [ 1 ,60 ,-10, 70, -80,85]. Ans : -80,85."
   ]
  },
  {
   "cell_type": "code",
   "execution_count": 5,
   "id": "2e7101b2-dbff-494a-8f24-4f5e74444bee",
   "metadata": {},
   "outputs": [
    {
     "name": "stdout",
     "output_type": "stream",
     "text": [
      "(-80, 85)\n"
     ]
    }
   ],
   "source": [
    "def find_closest_to_zero_pair(arr):\n",
    "    arr.sort()\n",
    "\n",
    "    left = 0\n",
    "    right = len(arr) - 1\n",
    "\n",
    "    closest_sum = float('inf')\n",
    "    closest_pair = (None, None)\n",
    "\n",
    "    while left < right:\n",
    "        current_sum = arr[left] + arr[right]\n",
    "\n",
    "\n",
    "        if abs(current_sum) < abs(closest_sum):\n",
    "            closest_sum = current_sum\n",
    "            closest_pair = (arr[left], arr[right])\n",
    "\n",
    "        if current_sum < 0:\n",
    "            left += 1\n",
    "        else:\n",
    "            right -= 1\n",
    "\n",
    "    return closest_pair\n",
    "\n",
    "arr = [1, 60, -10, 70, -80, 85]\n",
    "print(find_closest_to_zero_pair(arr))  # Output: (-80, 85)\n"
   ]
  },
  {
   "cell_type": "code",
   "execution_count": null,
   "id": "ee92dddb-5959-4e91-bfa9-be28acb96b66",
   "metadata": {},
   "outputs": [],
   "source": []
  },
  {
   "cell_type": "markdown",
   "id": "e0b7016c-7f9e-42cd-908d-56cd35f060d1",
   "metadata": {},
   "source": [
    "### Problem 6 : Given an array of n elements . Find three elements such that their sum is equal to the given number."
   ]
  },
  {
   "cell_type": "code",
   "execution_count": 6,
   "id": "9e0d51ee-c6ce-4102-8c0e-15f89c425a2e",
   "metadata": {},
   "outputs": [
    {
     "name": "stdout",
     "output_type": "stream",
     "text": [
      "(4, 8, 10)\n"
     ]
    }
   ],
   "source": [
    "def find_three_elements_with_sum(arr, K):\n",
    " \n",
    "    arr.sort()\n",
    "\n",
    "    # Step 2: Iterate through the array\n",
    "    n = len(arr)\n",
    "    for i in range(n - 2):\n",
    "        # Initialize two pointers\n",
    "        left = i + 1\n",
    "        right = n - 1\n",
    "\n",
    "        # Use the two-pointer technique to find a pair that sums with arr[i] to K\n",
    "        while left < right:\n",
    "            current_sum = arr[i] + arr[left] + arr[right]\n",
    "            if current_sum == K:\n",
    "                return (arr[i], arr[left], arr[right])\n",
    "            elif current_sum < K:\n",
    "                left += 1\n",
    "            else:\n",
    "                right -= 1\n",
    "\n",
    "    # If no such triplet is found, return None\n",
    "    return None\n",
    "\n",
    "# Example usage\n",
    "arr = [1, 4, 45, 6, 10, 8]\n",
    "K = 22\n",
    "print(find_three_elements_with_sum(arr, K))  # Output: (4, 10, 8)\n"
   ]
  },
  {
   "cell_type": "code",
   "execution_count": null,
   "id": "688ec213-e70a-40dd-b38f-9ab71e89461f",
   "metadata": {},
   "outputs": [],
   "source": []
  },
  {
   "cell_type": "markdown",
   "id": "f2574e47-61e4-4cdd-a6aa-73c2b8885c63",
   "metadata": {},
   "source": [
    "### Problem 7 : Given an array of n elements . Find three elements i, j, k in the array such that i * i + j * j = k*k."
   ]
  },
  {
   "cell_type": "code",
   "execution_count": 8,
   "id": "30ce5771-709e-4817-9a42-7fa9a49876cf",
   "metadata": {},
   "outputs": [
    {
     "name": "stdout",
     "output_type": "stream",
     "text": [
      "(3, 4, 5)\n"
     ]
    }
   ],
   "source": [
    "def find_pythagorean_triple(arr):\n",
    "\n",
    "    squares = {x * x for x in arr}\n",
    "  \n",
    "    n = len(arr)\n",
    "    for i in range(n):\n",
    "        for j in range(i + 1, n):\n",
    "            sum_squares = arr[i] * arr[i] + arr[j] * arr[j]\n",
    "            if sum_squares in squares:\n",
    "                k = int(sum_squares ** 0.5)  \n",
    "                if k in arr:\n",
    "                    return (arr[i], arr[j], k)\n",
    "\n",
    "    return None\n",
    "\n",
    "arr = [3, 4, 5, 6, 8, 10]\n",
    "print(find_pythagorean_triple(arr))\n"
   ]
  },
  {
   "cell_type": "code",
   "execution_count": null,
   "id": "3c9b625c-bbfd-4c74-a088-22c65c494314",
   "metadata": {},
   "outputs": [],
   "source": []
  },
  {
   "cell_type": "markdown",
   "id": "4df709b7-8985-4adb-a112-aa4bb1abe097",
   "metadata": {},
   "source": [
    "### Problem 8 : An element is a majority if it appears more than n/2 times. Give an algorithm takes an array of n element as argument and identifies a majority (if it exists)."
   ]
  },
  {
   "cell_type": "code",
   "execution_count": 9,
   "id": "475d908f-f921-4975-9e42-866089f528ba",
   "metadata": {},
   "outputs": [
    {
     "name": "stdout",
     "output_type": "stream",
     "text": [
      "4\n"
     ]
    }
   ],
   "source": [
    "def find_majority_element(arr):\n",
    "    candidate = None\n",
    "    count = 0\n",
    "    \n",
    "    for num in arr:\n",
    "        if count == 0:\n",
    "            candidate = num\n",
    "        count += (1 if num == candidate else -1)\n",
    "    \n",
    "    if candidate is not None and arr.count(candidate) > len(arr) // 2:\n",
    "        return candidate\n",
    "    \n",
    "    return None\n",
    "\n",
    "arr = [3, 3, 4, 2, 4, 4, 2, 4, 4]\n",
    "print(find_majority_element(arr))  \n"
   ]
  },
  {
   "cell_type": "code",
   "execution_count": null,
   "id": "828193a2-6fc6-4fb3-b954-56e970ba1a74",
   "metadata": {},
   "outputs": [],
   "source": []
  },
  {
   "cell_type": "markdown",
   "id": "f84e2423-5e0e-4153-aaf5-28ddc6436d2d",
   "metadata": {},
   "source": [
    "### Problem 9 : Given n × n matrix, and in each row all 1’s are followed by 0’s. Find the row with the maximum number of 0’s."
   ]
  },
  {
   "cell_type": "code",
   "execution_count": null,
   "id": "4215af4f-0c2b-4c01-ad3f-a1ffdd6a94ca",
   "metadata": {},
   "outputs": [],
   "source": []
  }
 ],
 "metadata": {
  "kernelspec": {
   "display_name": "Python 3 (ipykernel)",
   "language": "python",
   "name": "python3"
  },
  "language_info": {
   "codemirror_mode": {
    "name": "ipython",
    "version": 3
   },
   "file_extension": ".py",
   "mimetype": "text/x-python",
   "name": "python",
   "nbconvert_exporter": "python",
   "pygments_lexer": "ipython3",
   "version": "3.10.8"
  }
 },
 "nbformat": 4,
 "nbformat_minor": 5
}
